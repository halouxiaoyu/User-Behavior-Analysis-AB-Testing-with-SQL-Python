{
 "cells": [
  {
   "cell_type": "code",
   "execution_count": 1,
   "id": "628f8bd9-cee0-4692-8d99-928b73c677d4",
   "metadata": {},
   "outputs": [],
   "source": [
    "import mysql.connector\n",
    "from faker import Faker\n",
    "import random"
   ]
  },
  {
   "cell_type": "code",
   "execution_count": 3,
   "id": "0a24e7d0-e57f-4d6a-a51b-bcb5fbadf02f",
   "metadata": {},
   "outputs": [],
   "source": [
    "# Connect to MySQL\n",
    "conn = mysql.connector.connect(\n",
    "    host=\"localhost\",\n",
    "    user=\"root\",\n",
    "    password=\"admin123\",  # Replace with your MySQL root password\n",
    "    database=\"ecommerce_behavior\"\n",
    ")\n",
    "cursor = conn.cursor()"
   ]
  },
  {
   "cell_type": "code",
   "execution_count": 4,
   "id": "162ffc21-a4d0-42b8-973b-f856975219dd",
   "metadata": {},
   "outputs": [],
   "source": [
    "# Initialize Faker\n",
    "fake = Faker()"
   ]
  },
  {
   "cell_type": "code",
   "execution_count": 5,
   "id": "011e17fa-c63e-45af-88b9-dbae4176c424",
   "metadata": {},
   "outputs": [],
   "source": [
    "# Insert random data into the Users table\n",
    "for _ in range(3000):  # Generate 1000 users\n",
    "    signup_date = fake.date_this_decade()\n",
    "    last_login_date = fake.date_this_decade()\n",
    "    active = random.choice([0, 1])  # 0 for inactive, 1 for active\n",
    "    purchases = random.randint(0, 10)  # Random purchases between 0 and 10\n",
    "\n",
    "    cursor.execute(\"\"\"\n",
    "        INSERT INTO Users (Signup_Date, Last_Login_Date, Active, Purchases)\n",
    "        VALUES (%s, %s, %s, %s)\n",
    "    \"\"\", (signup_date, last_login_date, active, purchases))"
   ]
  },
  {
   "cell_type": "code",
   "execution_count": 6,
   "id": "f828c8f1-61d7-4b9c-a77e-6c113b397921",
   "metadata": {},
   "outputs": [],
   "source": [
    "# Commit the transaction\n",
    "conn.commit()"
   ]
  },
  {
   "cell_type": "code",
   "execution_count": 7,
   "id": "2239a7bd-16b3-4dc7-aa14-2dc40169c6a3",
   "metadata": {},
   "outputs": [],
   "source": [
    "# Close the connection\n",
    "cursor.close()\n",
    "conn.close()"
   ]
  },
  {
   "cell_type": "code",
   "execution_count": 8,
   "id": "e4855879-f872-452c-85dc-0c0bab8db129",
   "metadata": {},
   "outputs": [
    {
     "name": "stdout",
     "output_type": "stream",
     "text": [
      "Data inserted successfully.\n"
     ]
    }
   ],
   "source": [
    "print(\"Data inserted successfully.\")"
   ]
  },
  {
   "cell_type": "code",
   "execution_count": null,
   "id": "42ca9eb9-12cb-4be9-9dce-0d74d4bb228d",
   "metadata": {},
   "outputs": [],
   "source": []
  }
 ],
 "metadata": {
  "kernelspec": {
   "display_name": "Python 3 (ipykernel)",
   "language": "python",
   "name": "python3"
  },
  "language_info": {
   "codemirror_mode": {
    "name": "ipython",
    "version": 3
   },
   "file_extension": ".py",
   "mimetype": "text/x-python",
   "name": "python",
   "nbconvert_exporter": "python",
   "pygments_lexer": "ipython3",
   "version": "3.12.9"
  }
 },
 "nbformat": 4,
 "nbformat_minor": 5
}
